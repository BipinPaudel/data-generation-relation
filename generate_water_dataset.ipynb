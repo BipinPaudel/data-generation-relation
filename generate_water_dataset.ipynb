{
 "cells": [
  {
   "cell_type": "code",
   "execution_count": 1,
   "metadata": {},
   "outputs": [],
   "source": [
    "import pandas as pd\n",
    "import numpy as np\n",
    "from data.relation import read_csv, read_json, write_list_to_file, write_json_lists_to_file\n",
    "import re\n",
    "import json"
   ]
  },
  {
   "cell_type": "code",
   "execution_count": 16,
   "metadata": {},
   "outputs": [],
   "source": [
    "filename = 'data/water/dev.tsv'\n",
    "datadf = pd.read_csv(filename, sep='\\t', names=['e1', 'relationship', 'e2', 'text'])\n",
    "\n",
    "def process_data(row):\n",
    "    e1 = row['e1']\n",
    "    e2 = row['e2']\n",
    "    text = row['text']\n",
    "    entities = sorted([(e1, \"e1\"), (e2, \"e2\")], key=lambda x: len(x[0]), reverse=True)\n",
    "    for entity, tag in entities:\n",
    "        text = re.sub(re.escape(entity), f\"<{tag}>{entity}</{tag}>\", text, count=1)  # Count=1 ensures only the first occurrence is replaced\n",
    "    return text\n",
    "\n",
    "datadf['text_formatted'] = datadf.apply(process_data, axis=1)\n",
    "\n",
    "datadf['id'] = range(len(datadf))"
   ]
  },
  {
   "cell_type": "code",
   "execution_count": 17,
   "metadata": {},
   "outputs": [],
   "source": [
    "json_str = datadf.to_dict(orient='records')\n",
    "# Write the JSON string to a .json file\n",
    "f = 'data/water/dev_initial.json'\n",
    "with open(f, 'w') as f:\n",
    "    json.dump(json_str, f, ensure_ascii=False, indent=4)"
   ]
  },
  {
   "cell_type": "code",
   "execution_count": 56,
   "metadata": {},
   "outputs": [
    {
     "data": {
      "text/plain": [
       "'{'"
      ]
     },
     "execution_count": 56,
     "metadata": {},
     "output_type": "execute_result"
    }
   ],
   "source": [
    "json_str[0]"
   ]
  },
  {
   "cell_type": "code",
   "execution_count": 19,
   "metadata": {},
   "outputs": [],
   "source": [
    "counter = 0\n",
    "filename = 'data/water/dev_initial.json'\n",
    "json_list = read_json(filename=filename)\n",
    "for id, row in enumerate(json_list):\n",
    "    id = row['id']\n",
    "    # print(id)\n",
    "    e1 = re.search(r'<e1>(.*?)</e1>', row['text_formatted']).group(1)\n",
    "    e2 = re.search(r'<e2>(.*?)</e2>', row['text_formatted']).group(1)\n",
    "    if not e1: print(f\"no e1: {id}\")\n",
    "    if not e2: print(f'no e2: {id}')\n",
    "    \n",
    "    if '<e2' in e1 or '<e1' in e1:\n",
    "        print(f'First problem: {id}')\n",
    "        \n",
    "    if '<e1' in e2 or '<e2'in e2:\n",
    "        print(f\"second problem: {id}\")\n",
    "        "
   ]
  },
  {
   "cell_type": "markdown",
   "metadata": {},
   "source": [
    "### Data preparation for training"
   ]
  },
  {
   "cell_type": "code",
   "execution_count": 3,
   "metadata": {},
   "outputs": [
    {
     "name": "stdout",
     "output_type": "stream",
     "text": [
      "{'diagnoses': 0, 'interacts with': 1, 'associated with': 2, 'prevents': 3, 'impacts': 4, 'cause': 5, 'occurs': 6, 'to': 7, 'risk to': 8, 'manifestation of': 9, 'disrupts': 10, 'predisposes': 11, 'augments': 12, 'type of': 13, 'process of': 14, 'treats': 15, 'is a': 16, 'location of': 17, 'part of': 18, 'affects': 19, 'threaten': 20, 'coexists with': 21, 'produces': 22}\n"
     ]
    }
   ],
   "source": [
    "data_type = ['dev', 'test', 'train']\n",
    "\n",
    "relation_set = set()\n",
    "for dt in data_type:\n",
    "    initial_filename = f\"data/water/{dt}_initial.json\"\n",
    "    json_list = read_json(filename=initial_filename)\n",
    "    for js in json_list:\n",
    "        relation_set.add(js['relationship'])\n",
    "        \n",
    "relation2id = {r:i for i,r in enumerate(list(relation_set))}\n",
    "# write_json_lists_to_file('data/water/dev', relation2id)\n",
    "print(relation2id)\n",
    "for dt in data_type:\n",
    "    initial_filename = f\"data/water/{dt}_initial.json\"\n",
    "    json_list = read_json(filename=initial_filename)\n",
    "    \n",
    "    text_list = []\n",
    "    label_list = []\n",
    "    \n",
    "    for js in json_list:\n",
    "        text_list.append('[CLS]'+js['text_formatted']+ '[SEP]')\n",
    "        label_id = relation2id[js['relationship']]\n",
    "        assert label_id != None\n",
    "        assert label_id != ''\n",
    "        label_list.append(label_id)\n",
    "        \n",
    "    write_json_lists_to_file(f'data/water/{dt}/relation2id.json', relation2id)\n",
    "    write_list_to_file(f'data/water/{dt}/{dt}_sentence.json', text_list)\n",
    "    write_list_to_file(f'data/water/{dt}/{dt}_label_id.json', label_list)\n",
    "        \n",
    "    \n",
    "    "
   ]
  },
  {
   "cell_type": "code",
   "execution_count": null,
   "metadata": {},
   "outputs": [],
   "source": []
  }
 ],
 "metadata": {
  "kernelspec": {
   "display_name": "llm2",
   "language": "python",
   "name": "python3"
  },
  "language_info": {
   "codemirror_mode": {
    "name": "ipython",
    "version": 3
   },
   "file_extension": ".py",
   "mimetype": "text/x-python",
   "name": "python",
   "nbconvert_exporter": "python",
   "pygments_lexer": "ipython3",
   "version": "3.10.12"
  }
 },
 "nbformat": 4,
 "nbformat_minor": 2
}
